{
 "cells": [
  {
   "cell_type": "code",
   "execution_count": 2,
   "id": "ad3aee92",
   "metadata": {},
   "outputs": [
    {
     "name": "stdout",
     "output_type": "stream",
     "text": [
      "Requirement already satisfied: python-docx in ./venv/lib/python3.8/site-packages (1.1.0)\n",
      "Requirement already satisfied: lxml>=3.1.0 in ./venv/lib/python3.8/site-packages (from python-docx) (5.1.0)\n",
      "Requirement already satisfied: typing-extensions in ./venv/lib/python3.8/site-packages (from python-docx) (4.9.0)\n",
      "\u001b[33mWARNING: You are using pip version 20.2.3; however, version 23.3.2 is available.\n",
      "You should consider upgrading via the '/Users/shuowang/personal_project/dash_to_pptx/venv/bin/python3.8 -m pip install --upgrade pip' command.\u001b[0m\n",
      "Requirement already satisfied: python-pptx in ./venv/lib/python3.8/site-packages (0.6.23)\n",
      "Requirement already satisfied: XlsxWriter>=0.5.7 in ./venv/lib/python3.8/site-packages (from python-pptx) (3.1.9)\n",
      "Requirement already satisfied: lxml>=3.1.0 in ./venv/lib/python3.8/site-packages (from python-pptx) (5.1.0)\n",
      "Requirement already satisfied: Pillow>=3.3.2 in ./venv/lib/python3.8/site-packages (from python-pptx) (10.2.0)\n",
      "\u001b[33mWARNING: You are using pip version 20.2.3; however, version 23.3.2 is available.\n",
      "You should consider upgrading via the '/Users/shuowang/personal_project/dash_to_pptx/venv/bin/python3.8 -m pip install --upgrade pip' command.\u001b[0m\n"
     ]
    }
   ],
   "source": [
    "!pip install python-docx\n",
    "!pip install python-pptx"
   ]
  },
  {
   "cell_type": "markdown",
   "metadata": {},
   "source": []
  },
  {
   "cell_type": "code",
   "execution_count": 3,
   "id": "99f150b7",
   "metadata": {},
   "outputs": [],
   "source": [
    "from pptx import Presentation \n",
    "from pptx.util import Inches, Pt\n",
    "from pptx.dml.color import RGBColor"
   ]
  },
  {
   "cell_type": "code",
   "execution_count": 4,
   "id": "1a5a577c",
   "metadata": {},
   "outputs": [],
   "source": [
    "def page_1(pr):\n",
    "    slide_1_layout = pr.slide_layouts[0]\n",
    "    slide = pr.slides.add_slide(slide_1_layout)\n",
    "    slide_2_layout = pr.slide_layouts[0]\n",
    "    slide2 = pr.slides.add_slide(slide_2_layout)\n",
    "\n",
    "\n",
    "    for idx, placeholder in enumerate(slide2.placeholders):\n",
    "        print(f\"Placeholder {idx}: {placeholder.name}\")\n",
    "        placeholder.text = \"Shuo Wang\"\n",
    "\n"
   ]
  },
  {
   "cell_type": "code",
   "execution_count": 9,
   "id": "7ae2e73c",
   "metadata": {},
   "outputs": [],
   "source": [
    "def page_2(pr):\n",
    "    slide_layout = pr.slide_layouts[1]\n",
    "    slide = pr.slides.add_slide(slide_layout)\n",
    "    shapes = slide.shapes\n",
    "\n",
    "    left = Inches(0.93)  # 0.93\" centers this overall set of shapes\n",
    "    top = Inches(3.0)\n",
    "    width = Inches(1.75)\n",
    "    height = Inches(1.0)\n",
    "\n",
    "    for idx, placeholder in enumerate(slide.placeholders):\n",
    "        if idx == 0:\n",
    "            placeholder.text = \"test chart\"\n",
    "            \n",
    "        # print(f\"Placeholder {idx}: {placeholder.name}\")\n",
    "        placeholder.text = \"Shuo Wang\"\n",
    "# ------------------------------------------------------------------------------------------------------------------------ \n",
    "# ------------------------------------------------------------------------------------------------------------------------        \n",
    "    left = Inches(0.93)  # 0.93\" centers this overall set of shapes\n",
    "    top = Inches(5.0)\n",
    "    width = Inches(1.75)\n",
    "    height = Inches(1.0)\n",
    "    txBox = slide.shapes.add_textbox(left, top, width, height)\n",
    "    tf = txBox.text_frame\n",
    "    tf.text = \"Textbox\"\n",
    "    p = tf.add_paragraph()\n",
    "    p.text = \"This is a second paragraph.\"\n",
    "    p.font.bold = True\n",
    "    p.font.italic = True\n",
    "    p = tf.add_paragraph()\n",
    "    p.text = \"This is a third paragraph.\"\n",
    "    p.font.size = Pt(40)\n",
    "\n",
    "\n",
    "\n",
    "\n",
    "    \n"
   ]
  },
  {
   "cell_type": "code",
   "execution_count": 13,
   "id": "0a74deda",
   "metadata": {},
   "outputs": [],
   "source": [
    "def page_3(pr):    \n",
    "\n",
    "    slide_layout = pr.slide_layouts[5]  \n",
    "    slide = pr.slides.add_slide(slide_layout)\n",
    "    image_path = \"newplot.png\"\n",
    "    left = Inches(1)  # Adjust the position as needed\n",
    "    top = Inches(1)\n",
    "    width = Inches(5)  # Adjust the position as needed\n",
    "    height = Inches(5)\n",
    "    slide.shapes.add_picture(image_path, 0, 0,10,10)\n"
   ]
  },
  {
   "cell_type": "code",
   "execution_count": 6,
   "metadata": {},
   "outputs": [],
   "source": [
    "import dash\n",
    "from dash import dcc, html\n",
    "import plotly.express as px\n",
    "import pandas as pd\n",
    "import numpy as np"
   ]
  },
  {
   "cell_type": "code",
   "execution_count": 14,
   "id": "8b8eb4e4",
   "metadata": {},
   "outputs": [
    {
     "name": "stdout",
     "output_type": "stream",
     "text": [
      "Placeholder 0: Text Placeholder 1\n",
      "Placeholder 1: Text Placeholder 2\n"
     ]
    },
    {
     "name": "stderr",
     "output_type": "stream",
     "text": [
      "/Users/shuowang/opt/anaconda3/lib/python3.8/zipfile.py:1517: UserWarning: Duplicate name: 'ppt/slides/slide1.xml'\n",
      "  return self._open_to_write(zinfo, force_zip64=force_zip64)\n",
      "/Users/shuowang/opt/anaconda3/lib/python3.8/zipfile.py:1517: UserWarning: Duplicate name: 'ppt/slides/_rels/slide1.xml.rels'\n",
      "  return self._open_to_write(zinfo, force_zip64=force_zip64)\n"
     ]
    }
   ],
   "source": [
    "filename = \"test.pptx\"  \n",
    "\n",
    "pr = Presentation(\"template1.pptx\")\n",
    "\n",
    "slides = pr.slides\n",
    "slides._sldIdLst.clear()\n",
    "\n",
    "page_1(pr)\n",
    "# page_2(pr)\n",
    "# page_4()\n",
    "page_3(pr)\n",
    "\n",
    "pr.save(filename)"
   ]
  },
  {
   "cell_type": "code",
   "execution_count": 12,
   "id": "10a44eac",
   "metadata": {},
   "outputs": [
    {
     "data": {
      "text/plain": [
       "<subprocess.Popen at 0x7fa6281c5d60>"
      ]
     },
     "execution_count": 12,
     "metadata": {},
     "output_type": "execute_result"
    },
    {
     "name": "stderr",
     "output_type": "stream",
     "text": [
      "/bin/sh: test.pptx: command not found\n"
     ]
    }
   ],
   "source": [
    "# import subprocess\n",
    "# subprocess.run(['taskkill', '/f', '/im', 'POWERPNT.EXE'])\n",
    "# subprocess.Popen([filename], shell=True)"
   ]
  }
 ],
 "metadata": {
  "kernelspec": {
   "display_name": "Python 3.8.8 ('venv': venv)",
   "language": "python",
   "name": "python3"
  },
  "language_info": {
   "codemirror_mode": {
    "name": "ipython",
    "version": 3
   },
   "file_extension": ".py",
   "mimetype": "text/x-python",
   "name": "python",
   "nbconvert_exporter": "python",
   "pygments_lexer": "ipython3",
   "version": "3.8.8"
  },
  "vscode": {
   "interpreter": {
    "hash": "803f751d791647b42e9f67d1d89c523f689a869426fc2bdc3fd5749c2de0ee20"
   }
  }
 },
 "nbformat": 4,
 "nbformat_minor": 5
}
