{
 "cells": [
  {
   "cell_type": "code",
   "execution_count": 1,
   "id": "ad3aee92",
   "metadata": {},
   "outputs": [
    {
     "name": "stdout",
     "output_type": "stream",
     "text": [
      "Requirement already satisfied: python-docx in c:\\users\\shuowang\\appdata\\local\\programs\\python\\python310\\lib\\site-packages (0.8.11)\n",
      "Requirement already satisfied: lxml>=2.3.2 in c:\\users\\shuowang\\appdata\\local\\programs\\python\\python310\\lib\\site-packages (from python-docx) (4.9.2)\n"
     ]
    },
    {
     "name": "stderr",
     "output_type": "stream",
     "text": [
      "\n",
      "[notice] A new release of pip is available: 23.1.2 -> 23.3.2\n",
      "[notice] To update, run: python.exe -m pip install --upgrade pip\n"
     ]
    },
    {
     "name": "stdout",
     "output_type": "stream",
     "text": [
      "Requirement already satisfied: python-pptx in c:\\users\\shuowang\\appdata\\local\\programs\\python\\python310\\lib\\site-packages (0.6.21)\n",
      "Requirement already satisfied: lxml>=3.1.0 in c:\\users\\shuowang\\appdata\\local\\programs\\python\\python310\\lib\\site-packages (from python-pptx) (4.9.2)\n",
      "Requirement already satisfied: Pillow>=3.3.2 in c:\\users\\shuowang\\appdata\\local\\programs\\python\\python310\\lib\\site-packages (from python-pptx) (9.5.0)\n",
      "Requirement already satisfied: XlsxWriter>=0.5.7 in c:\\users\\shuowang\\appdata\\local\\programs\\python\\python310\\lib\\site-packages (from python-pptx) (3.1.2)\n"
     ]
    },
    {
     "name": "stderr",
     "output_type": "stream",
     "text": [
      "\n",
      "[notice] A new release of pip is available: 23.1.2 -> 23.3.2\n",
      "[notice] To update, run: python.exe -m pip install --upgrade pip\n"
     ]
    }
   ],
   "source": [
    "# !pip install python-docx\n",
    "# !pip install python-pptx"
   ]
  },
  {
   "cell_type": "markdown",
   "metadata": {},
   "source": []
  },
  {
   "cell_type": "code",
   "execution_count": 13,
   "id": "99f150b7",
   "metadata": {},
   "outputs": [],
   "source": [
    "from pptx import Presentation \n",
    "from pptx.util import Inches, Pt\n",
    "from pptx.dml.color import RGBColor"
   ]
  },
  {
   "cell_type": "code",
   "execution_count": 14,
   "metadata": {},
   "outputs": [],
   "source": [
    "import xml.etree.ElementTree as ET"
   ]
  },
  {
   "cell_type": "code",
   "execution_count": 15,
   "id": "1a5a577c",
   "metadata": {},
   "outputs": [],
   "source": [
    "def page_1(pr):\n",
    "    slide_1_layout = pr.slide_layouts[0]\n",
    "    slide = pr.slides.add_slide(slide_1_layout)\n",
    "    slide_2_layout = pr.slide_layouts[0]\n",
    "    slide2 = pr.slides.add_slide(slide_2_layout)\n",
    "\n",
    "\n",
    "    for idx, placeholder in enumerate(slide2.placeholders):\n",
    "        print(f\"Placeholder {idx}: {placeholder.name}\")\n",
    "        placeholder.text = \"Shuo Wang\"\n",
    "\n"
   ]
  },
  {
   "cell_type": "code",
   "execution_count": 16,
   "metadata": {},
   "outputs": [],
   "source": [
    "import plotly.graph_objects as go\n",
    "import plotly.io as pio\n",
    "from pptx import Presentation\n",
    "from pptx.util import Inches\n",
    "from PIL import Image\n",
    "import io\n",
    "import os\n",
    "import os\n",
    "\n",
    "# if not os.path.exists(\"images\"):\n",
    "#     os.mkdir(\"images\")\n",
    "\n",
    "# fig = go.Figure(data=[go.Scatter(x=[1, 2, 3, 4], y=[10, 11, 12, 13], mode='markers')])\n",
    "# fig.show()\n",
    "# fig.write_image(\"images/fig1.png\")\n"
   ]
  },
  {
   "cell_type": "code",
   "execution_count": 17,
   "id": "7ae2e73c",
   "metadata": {},
   "outputs": [],
   "source": [
    "def page_2(pr):\n",
    "    slide_layout = pr.slide_layouts[1]\n",
    "    slide = pr.slides.add_slide(slide_layout)\n",
    "    shapes = slide.shapes\n",
    "\n",
    "    left = Inches(0.93)  # 0.93\" centers this overall set of shapes\n",
    "    top = Inches(3.0)\n",
    "    width = Inches(1.75)\n",
    "    height = Inches(1.0)\n",
    "\n",
    "    for idx, placeholder in enumerate(slide.placeholders):\n",
    "        if idx == 0:\n",
    "            placeholder.text = \"test chart\"\n",
    "            \n",
    "        # print(f\"Placeholder {idx}: {placeholder.name}\")\n",
    "        placeholder.text = \"Shuo Wang\"\n",
    "# ------------------------------------------------------------------------------------------------------------------------ \n",
    "# ------------------------------------------------------------------------------------------------------------------------        \n",
    "    left = Inches(0.93)  # 0.93\" centers this overall set of shapes\n",
    "    top = Inches(5.0)\n",
    "    width = Inches(1.75)\n",
    "    height = Inches(1.0)\n",
    "    txBox = slide.shapes.add_textbox(left, top, width, height)\n",
    "    tf = txBox.text_frame\n",
    "    tf.text = \"Textbox\"\n",
    "    p = tf.add_paragraph()\n",
    "    p.text = \"This is a second paragraph.\"\n",
    "    p.font.bold = True\n",
    "    p.font.italic = True\n",
    "    p = tf.add_paragraph()\n",
    "    p.text = \"This is a third paragraph.\"\n",
    "    p.font.size = Pt(40)\n",
    "\n",
    "    # fig = go.Figure(data=[go.Scatter(x=[1, 2, 3, 4], y=[10, 11, 12, 13], mode='markers')])\n",
    "    # image_bytes = pio.to_image(fig, format='png')\n",
    "    image_path = \"newplot.png\"\n",
    "    # # Step 3: Specify a Custom Image Name\n",
    "    # image_name = \"your_custom_image_name.png\"\n",
    "\n",
    "    # # Step 4: Save the Image to the Current Working Directory\n",
    "    # image_path = os.path.join(os.getcwd(), image_name)\n",
    "    # with open(image_path, \"wb\") as image_file:\n",
    "    #     image_file.write(image_bytes)\n",
    "\n",
    "    # # Print the path for reference\n",
    "    # print(f\"Image saved to: {image_path}\")\n",
    "\n",
    "    # Step 5: Add a Slide to the Presentation\n",
    "    slide_layout = pr.slide_layouts[5]  # Choose a layout (you may need to adjust)\n",
    "    slide = pr.slides.add_slide(slide_layout)\n",
    "    left = Inches(1)  # Adjust the position as needed\n",
    "    top = Inches(1)\n",
    "    right = Inches(5)  # Adjust the position as needed\n",
    "    bottom = Inches(5)\n",
    "    slide.shapes.add_picture(image_path, left, top,right,bottom)\n",
    "    # for idx, placeholder in enumerate(slide.placeholders):\n",
    "    #     placeholder.image = image_path\n",
    "    #     if idx == 0:\n",
    "    #         placeholder.text = \"test chart\"\n",
    "    #     if idx == 1:\n",
    "    #         placeholder.text = \"test chart2\"\n",
    "    #     if idx == 2:\n",
    "    #         placeholder.text = \"test chart3\"\n",
    "    #     print(f\"Placeholder {idx}: {placeholder.name}\")\n",
    "        # placeholder.text = \"Shuo Wang\"\n",
    "\n",
    "\n",
    "    \n"
   ]
  },
  {
   "cell_type": "code",
   "execution_count": 18,
   "metadata": {},
   "outputs": [],
   "source": [
    "import dash\n",
    "from dash import dcc, html\n",
    "import plotly.express as px\n",
    "import pandas as pd\n",
    "import numpy as np"
   ]
  },
  {
   "cell_type": "code",
   "execution_count": 19,
   "id": "8b8eb4e4",
   "metadata": {},
   "outputs": [
    {
     "name": "stdout",
     "output_type": "stream",
     "text": [
      "Placeholder 0: Text Placeholder 1\n",
      "Placeholder 1: Text Placeholder 2\n"
     ]
    },
    {
     "name": "stderr",
     "output_type": "stream",
     "text": [
      "c:\\Users\\ShuoWang\\AppData\\Local\\Programs\\Python\\Python310\\lib\\zipfile.py:1519: UserWarning: Duplicate name: 'ppt/slides/slide1.xml'\n",
      "  return self._open_to_write(zinfo, force_zip64=force_zip64)\n",
      "c:\\Users\\ShuoWang\\AppData\\Local\\Programs\\Python\\Python310\\lib\\zipfile.py:1519: UserWarning: Duplicate name: 'ppt/slides/_rels/slide1.xml.rels'\n",
      "  return self._open_to_write(zinfo, force_zip64=force_zip64)\n"
     ]
    }
   ],
   "source": [
    "filename = \"test.pptx\"  \n",
    "\n",
    "pr = Presentation(\"template1.pptx\")\n",
    "\n",
    "slides = pr.slides\n",
    "slides._sldIdLst.clear()\n",
    "\n",
    "page_1(pr)\n",
    "page_2(pr)\n",
    "# page_4()\n",
    "# page_3()\n",
    "\n",
    "pr.save(filename)"
   ]
  },
  {
   "cell_type": "code",
   "execution_count": 20,
   "id": "10a44eac",
   "metadata": {},
   "outputs": [
    {
     "data": {
      "text/plain": [
       "<Popen: returncode: None args: ['test.pptx']>"
      ]
     },
     "execution_count": 20,
     "metadata": {},
     "output_type": "execute_result"
    }
   ],
   "source": [
    "import subprocess\n",
    "subprocess.run(['taskkill', '/f', '/im', 'POWERPNT.EXE'])\n",
    "subprocess.Popen([filename], shell=True)"
   ]
  }
 ],
 "metadata": {
  "kernelspec": {
   "display_name": "Python 3 (ipykernel)",
   "language": "python",
   "name": "python3"
  },
  "language_info": {
   "codemirror_mode": {
    "name": "ipython",
    "version": 3
   },
   "file_extension": ".py",
   "mimetype": "text/x-python",
   "name": "python",
   "nbconvert_exporter": "python",
   "pygments_lexer": "ipython3",
   "version": "3.10.11"
  }
 },
 "nbformat": 4,
 "nbformat_minor": 5
}
